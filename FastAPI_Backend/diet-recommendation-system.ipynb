{
 "cells": [
  {
   "cell_type": "markdown",
   "metadata": {},
   "source": [
    "# Diet Recommendation System"
   ]
  },
  {
   "cell_type": "markdown",
   "metadata": {},
   "source": [
    "## I. Import Libraries"
   ]
  },
  {
   "cell_type": "code",
   "execution_count": 234,
   "metadata": {},
   "outputs": [],
   "source": [
    "import pandas as pd\n",
    "import numpy as np\n",
    "import tensorflow as tf\n",
    "import matplotlib.pyplot as plt\n",
    "\n",
    "from sklearn.preprocessing import StandardScaler\n",
    "from sklearn.neighbors import NearestNeighbors\n",
    "from sklearn.pipeline import Pipeline\n",
    "from sklearn.preprocessing import FunctionTransformer"
   ]
  },
  {
   "cell_type": "markdown",
   "metadata": {},
   "source": [
    "## II. Get and clean dataset\n",
    "### A. Store dataset"
   ]
  },
  {
   "cell_type": "code",
   "execution_count": 235,
   "metadata": {},
   "outputs": [],
   "source": [
    "df_recipes = pd.read_csv('../Data/foodcom/recipes.csv')"
   ]
  },
  {
   "cell_type": "code",
   "execution_count": 236,
   "metadata": {},
   "outputs": [
    {
     "data": {
      "text/html": [
       "<div>\n",
       "<style scoped>\n",
       "    .dataframe tbody tr th:only-of-type {\n",
       "        vertical-align: middle;\n",
       "    }\n",
       "\n",
       "    .dataframe tbody tr th {\n",
       "        vertical-align: top;\n",
       "    }\n",
       "\n",
       "    .dataframe thead th {\n",
       "        text-align: right;\n",
       "    }\n",
       "</style>\n",
       "<table border=\"1\" class=\"dataframe\">\n",
       "  <thead>\n",
       "    <tr style=\"text-align: right;\">\n",
       "      <th></th>\n",
       "      <th>RecipeId</th>\n",
       "      <th>Name</th>\n",
       "      <th>AuthorId</th>\n",
       "      <th>AuthorName</th>\n",
       "      <th>CookTime</th>\n",
       "      <th>PrepTime</th>\n",
       "      <th>TotalTime</th>\n",
       "      <th>DatePublished</th>\n",
       "      <th>Description</th>\n",
       "      <th>Images</th>\n",
       "      <th>...</th>\n",
       "      <th>SaturatedFatContent</th>\n",
       "      <th>CholesterolContent</th>\n",
       "      <th>SodiumContent</th>\n",
       "      <th>CarbohydrateContent</th>\n",
       "      <th>FiberContent</th>\n",
       "      <th>SugarContent</th>\n",
       "      <th>ProteinContent</th>\n",
       "      <th>RecipeServings</th>\n",
       "      <th>RecipeYield</th>\n",
       "      <th>RecipeInstructions</th>\n",
       "    </tr>\n",
       "  </thead>\n",
       "  <tbody>\n",
       "    <tr>\n",
       "      <th>0</th>\n",
       "      <td>38</td>\n",
       "      <td>Low-Fat Berry Blue Frozen Dessert</td>\n",
       "      <td>1533</td>\n",
       "      <td>Dancer</td>\n",
       "      <td>PT24H</td>\n",
       "      <td>PT45M</td>\n",
       "      <td>PT24H45M</td>\n",
       "      <td>1999-08-09T21:46:00Z</td>\n",
       "      <td>Make and share this Low-Fat Berry Blue Frozen ...</td>\n",
       "      <td>c(\"https://img.sndimg.com/food/image/upload/w_...</td>\n",
       "      <td>...</td>\n",
       "      <td>1.3</td>\n",
       "      <td>8.0</td>\n",
       "      <td>29.8</td>\n",
       "      <td>37.1</td>\n",
       "      <td>3.6</td>\n",
       "      <td>30.2</td>\n",
       "      <td>3.2</td>\n",
       "      <td>4.0</td>\n",
       "      <td>NaN</td>\n",
       "      <td>c(\"Toss 2 cups berries with sugar.\", \"Let stan...</td>\n",
       "    </tr>\n",
       "    <tr>\n",
       "      <th>1</th>\n",
       "      <td>39</td>\n",
       "      <td>Biryani</td>\n",
       "      <td>1567</td>\n",
       "      <td>elly9812</td>\n",
       "      <td>PT25M</td>\n",
       "      <td>PT4H</td>\n",
       "      <td>PT4H25M</td>\n",
       "      <td>1999-08-29T13:12:00Z</td>\n",
       "      <td>Make and share this Biryani recipe from Food.com.</td>\n",
       "      <td>c(\"https://img.sndimg.com/food/image/upload/w_...</td>\n",
       "      <td>...</td>\n",
       "      <td>16.6</td>\n",
       "      <td>372.8</td>\n",
       "      <td>368.4</td>\n",
       "      <td>84.4</td>\n",
       "      <td>9.0</td>\n",
       "      <td>20.4</td>\n",
       "      <td>63.4</td>\n",
       "      <td>6.0</td>\n",
       "      <td>NaN</td>\n",
       "      <td>c(\"Soak saffron in warm milk for 5 minutes and...</td>\n",
       "    </tr>\n",
       "    <tr>\n",
       "      <th>2</th>\n",
       "      <td>40</td>\n",
       "      <td>Best Lemonade</td>\n",
       "      <td>1566</td>\n",
       "      <td>Stephen Little</td>\n",
       "      <td>PT5M</td>\n",
       "      <td>PT30M</td>\n",
       "      <td>PT35M</td>\n",
       "      <td>1999-09-05T19:52:00Z</td>\n",
       "      <td>This is from one of my  first Good House Keepi...</td>\n",
       "      <td>c(\"https://img.sndimg.com/food/image/upload/w_...</td>\n",
       "      <td>...</td>\n",
       "      <td>0.0</td>\n",
       "      <td>0.0</td>\n",
       "      <td>1.8</td>\n",
       "      <td>81.5</td>\n",
       "      <td>0.4</td>\n",
       "      <td>77.2</td>\n",
       "      <td>0.3</td>\n",
       "      <td>4.0</td>\n",
       "      <td>NaN</td>\n",
       "      <td>c(\"Into a 1 quart Jar with tight fitting lid, ...</td>\n",
       "    </tr>\n",
       "    <tr>\n",
       "      <th>3</th>\n",
       "      <td>41</td>\n",
       "      <td>Carina's Tofu-Vegetable Kebabs</td>\n",
       "      <td>1586</td>\n",
       "      <td>Cyclopz</td>\n",
       "      <td>PT20M</td>\n",
       "      <td>PT24H</td>\n",
       "      <td>PT24H20M</td>\n",
       "      <td>1999-09-03T14:54:00Z</td>\n",
       "      <td>This dish is best prepared a day in advance to...</td>\n",
       "      <td>c(\"https://img.sndimg.com/food/image/upload/w_...</td>\n",
       "      <td>...</td>\n",
       "      <td>3.8</td>\n",
       "      <td>0.0</td>\n",
       "      <td>1558.6</td>\n",
       "      <td>64.2</td>\n",
       "      <td>17.3</td>\n",
       "      <td>32.1</td>\n",
       "      <td>29.3</td>\n",
       "      <td>2.0</td>\n",
       "      <td>4 kebabs</td>\n",
       "      <td>c(\"Drain the tofu, carefully squeezing out exc...</td>\n",
       "    </tr>\n",
       "    <tr>\n",
       "      <th>4</th>\n",
       "      <td>42</td>\n",
       "      <td>Cabbage Soup</td>\n",
       "      <td>1538</td>\n",
       "      <td>Duckie067</td>\n",
       "      <td>PT30M</td>\n",
       "      <td>PT20M</td>\n",
       "      <td>PT50M</td>\n",
       "      <td>1999-09-19T06:19:00Z</td>\n",
       "      <td>Make and share this Cabbage Soup recipe from F...</td>\n",
       "      <td>\"https://img.sndimg.com/food/image/upload/w_55...</td>\n",
       "      <td>...</td>\n",
       "      <td>0.1</td>\n",
       "      <td>0.0</td>\n",
       "      <td>959.3</td>\n",
       "      <td>25.1</td>\n",
       "      <td>4.8</td>\n",
       "      <td>17.7</td>\n",
       "      <td>4.3</td>\n",
       "      <td>4.0</td>\n",
       "      <td>NaN</td>\n",
       "      <td>c(\"Mix everything together and bring to a boil...</td>\n",
       "    </tr>\n",
       "  </tbody>\n",
       "</table>\n",
       "<p>5 rows × 28 columns</p>\n",
       "</div>"
      ],
      "text/plain": [
       "   RecipeId                               Name  AuthorId      AuthorName   \n",
       "0        38  Low-Fat Berry Blue Frozen Dessert      1533          Dancer  \\\n",
       "1        39                            Biryani      1567        elly9812   \n",
       "2        40                      Best Lemonade      1566  Stephen Little   \n",
       "3        41     Carina's Tofu-Vegetable Kebabs      1586         Cyclopz   \n",
       "4        42                       Cabbage Soup      1538       Duckie067   \n",
       "\n",
       "  CookTime PrepTime TotalTime         DatePublished   \n",
       "0    PT24H    PT45M  PT24H45M  1999-08-09T21:46:00Z  \\\n",
       "1    PT25M     PT4H   PT4H25M  1999-08-29T13:12:00Z   \n",
       "2     PT5M    PT30M     PT35M  1999-09-05T19:52:00Z   \n",
       "3    PT20M    PT24H  PT24H20M  1999-09-03T14:54:00Z   \n",
       "4    PT30M    PT20M     PT50M  1999-09-19T06:19:00Z   \n",
       "\n",
       "                                         Description   \n",
       "0  Make and share this Low-Fat Berry Blue Frozen ...  \\\n",
       "1  Make and share this Biryani recipe from Food.com.   \n",
       "2  This is from one of my  first Good House Keepi...   \n",
       "3  This dish is best prepared a day in advance to...   \n",
       "4  Make and share this Cabbage Soup recipe from F...   \n",
       "\n",
       "                                              Images  ... SaturatedFatContent   \n",
       "0  c(\"https://img.sndimg.com/food/image/upload/w_...  ...                 1.3  \\\n",
       "1  c(\"https://img.sndimg.com/food/image/upload/w_...  ...                16.6   \n",
       "2  c(\"https://img.sndimg.com/food/image/upload/w_...  ...                 0.0   \n",
       "3  c(\"https://img.sndimg.com/food/image/upload/w_...  ...                 3.8   \n",
       "4  \"https://img.sndimg.com/food/image/upload/w_55...  ...                 0.1   \n",
       "\n",
       "  CholesterolContent SodiumContent CarbohydrateContent  FiberContent   \n",
       "0                8.0          29.8                37.1           3.6  \\\n",
       "1              372.8         368.4                84.4           9.0   \n",
       "2                0.0           1.8                81.5           0.4   \n",
       "3                0.0        1558.6                64.2          17.3   \n",
       "4                0.0         959.3                25.1           4.8   \n",
       "\n",
       "   SugarContent  ProteinContent  RecipeServings  RecipeYield   \n",
       "0          30.2             3.2             4.0          NaN  \\\n",
       "1          20.4            63.4             6.0          NaN   \n",
       "2          77.2             0.3             4.0          NaN   \n",
       "3          32.1            29.3             2.0     4 kebabs   \n",
       "4          17.7             4.3             4.0          NaN   \n",
       "\n",
       "                                  RecipeInstructions  \n",
       "0  c(\"Toss 2 cups berries with sugar.\", \"Let stan...  \n",
       "1  c(\"Soak saffron in warm milk for 5 minutes and...  \n",
       "2  c(\"Into a 1 quart Jar with tight fitting lid, ...  \n",
       "3  c(\"Drain the tofu, carefully squeezing out exc...  \n",
       "4  c(\"Mix everything together and bring to a boil...  \n",
       "\n",
       "[5 rows x 28 columns]"
      ]
     },
     "execution_count": 236,
     "metadata": {},
     "output_type": "execute_result"
    }
   ],
   "source": [
    "df_recipes.head()"
   ]
  },
  {
   "cell_type": "markdown",
   "metadata": {},
   "source": [
    "### B. Examine columns for df_recipes"
   ]
  },
  {
   "cell_type": "code",
   "execution_count": 237,
   "metadata": {},
   "outputs": [
    {
     "name": "stdout",
     "output_type": "stream",
     "text": [
      "df_recipes has 28 columns:\n",
      "\n",
      "Columns Names:                Unique Values:      Missing Values/Null:\n",
      "RecipeId                      522517              0                   \n",
      "Name                          438188              0                   \n",
      "AuthorId                      57178               0                   \n",
      "AuthorName                    56793               0                   \n",
      "CookTime                      490                 82545               \n",
      "PrepTime                      318                 0                   \n",
      "TotalTime                     1240                0                   \n",
      "DatePublished                 245540              0                   \n",
      "Description                   492838              5                   \n",
      "Images                        165889              1                   \n",
      "RecipeCategory                311                 751                 \n",
      "Keywords                      216569              17237               \n",
      "RecipeIngredientQuantities    459571              3                   \n",
      "RecipeIngredientParts         497120              0                   \n",
      "AggregatedRating              9                   253223              \n",
      "ReviewCount                   420                 247489              \n",
      "Calories                      30138               0                   \n",
      "FatContent                    4523                0                   \n",
      "SaturatedFatContent           2533                0                   \n",
      "CholesterolContent            9803                0                   \n",
      "SodiumContent                 40455               0                   \n",
      "CarbohydrateContent           8102                0                   \n",
      "FiberContent                  1067                0                   \n",
      "SugarContent                  6008                0                   \n",
      "ProteinContent                2581                0                   \n",
      "RecipeServings                171                 182911              \n",
      "RecipeYield                   34043               348071              \n",
      "RecipeInstructions            519993              0                   \n"
     ]
    }
   ],
   "source": [
    "len_features = len(df_recipes.columns)\n",
    "col_features = df_recipes.columns\n",
    "\n",
    "print(\"df_recipes has \"+str(len_features)+\" columns:\\n\\n\" +\n",
    "      \"Columns Names:\".ljust(30, ' ') +\n",
    "      \"Unique Values:\".ljust(20, ' ') +\n",
    "      \"Missing Values/Null:\".ljust(20, ' '))\n",
    "\n",
    "for i in col_features:\n",
    "    print(i.ljust(30, ' ') + \n",
    "          str(df_recipes[i].nunique()).ljust(20, ' ') + \n",
    "          str(sum(df_recipes[i].isnull())).ljust(20, ' '))"
   ]
  },
  {
   "cell_type": "markdown",
   "metadata": {},
   "source": [
    "## III. Prepare the Data\n",
    "### A. Get only related columns to use for diet recommendation"
   ]
  },
  {
   "cell_type": "code",
   "execution_count": 238,
   "metadata": {},
   "outputs": [
    {
     "name": "stdout",
     "output_type": "stream",
     "text": [
      "<class 'pandas.core.frame.DataFrame'>\n",
      "RangeIndex: 522517 entries, 0 to 522516\n",
      "Data columns (total 16 columns):\n",
      " #   Column                 Non-Null Count   Dtype  \n",
      "---  ------                 --------------   -----  \n",
      " 0   RecipeId               522517 non-null  int64  \n",
      " 1   Name                   522517 non-null  object \n",
      " 2   CookTime               439972 non-null  object \n",
      " 3   PrepTime               522517 non-null  object \n",
      " 4   TotalTime              522517 non-null  object \n",
      " 5   RecipeIngredientParts  522517 non-null  object \n",
      " 6   Calories               522517 non-null  float64\n",
      " 7   FatContent             522517 non-null  float64\n",
      " 8   SaturatedFatContent    522517 non-null  float64\n",
      " 9   CholesterolContent     522517 non-null  float64\n",
      " 10  SodiumContent          522517 non-null  float64\n",
      " 11  CarbohydrateContent    522517 non-null  float64\n",
      " 12  FiberContent           522517 non-null  float64\n",
      " 13  SugarContent           522517 non-null  float64\n",
      " 14  ProteinContent         522517 non-null  float64\n",
      " 15  RecipeInstructions     522517 non-null  object \n",
      "dtypes: float64(9), int64(1), object(6)\n",
      "memory usage: 63.8+ MB\n"
     ]
    }
   ],
   "source": [
    "dataset=df_recipes.copy()\n",
    "columns=['RecipeId','Name','CookTime','PrepTime','TotalTime','RecipeIngredientParts',\n",
    "         'Calories','FatContent','SaturatedFatContent','CholesterolContent',\n",
    "         'SodiumContent','CarbohydrateContent','FiberContent','SugarContent',\n",
    "         'ProteinContent','RecipeInstructions']\n",
    "dataset=dataset[columns]\n",
    "\n",
    "dataset.info()"
   ]
  },
  {
   "cell_type": "code",
   "execution_count": 239,
   "metadata": {},
   "outputs": [
    {
     "data": {
      "text/plain": [
       "(522517, 16)"
      ]
     },
     "execution_count": 239,
     "metadata": {},
     "output_type": "execute_result"
    }
   ],
   "source": [
    "dataset.shape"
   ]
  },
  {
   "cell_type": "markdown",
   "metadata": {},
   "source": [
    "### B. Remove rows that are more than the allowed max limit"
   ]
  },
  {
   "cell_type": "code",
   "execution_count": 240,
   "metadata": {},
   "outputs": [],
   "source": [
    "max_Calories=2000\n",
    "max_daily_fat=100\n",
    "max_daily_Saturatedfat=13\n",
    "max_daily_Cholesterol=300\n",
    "max_daily_Sodium=2300\n",
    "max_daily_Carbohydrate=325\n",
    "max_daily_Fiber=40\n",
    "max_daily_Sugar=40\n",
    "max_daily_Protein=200\n",
    "max_list=[max_Calories, max_daily_fat, \n",
    "          max_daily_Saturatedfat, max_daily_Cholesterol, \n",
    "          max_daily_Sodium, max_daily_Carbohydrate, \n",
    "          max_daily_Fiber, max_daily_Sugar, max_daily_Protein]"
   ]
  },
  {
   "cell_type": "code",
   "execution_count": 241,
   "metadata": {},
   "outputs": [],
   "source": [
    "extracted_data = dataset.copy()\n",
    "for column, maximum in zip(extracted_data.columns[6:15], max_list):\n",
    "    extracted_data = extracted_data[extracted_data[column]<maximum]"
   ]
  },
  {
   "cell_type": "code",
   "execution_count": 242,
   "metadata": {},
   "outputs": [
    {
     "data": {
      "text/plain": [
       "(375703, 16)"
      ]
     },
     "execution_count": 242,
     "metadata": {},
     "output_type": "execute_result"
    }
   ],
   "source": [
    "extracted_data.shape"
   ]
  },
  {
   "cell_type": "markdown",
   "metadata": {},
   "source": [
    "### C. Create and Compress new dataset"
   ]
  },
  {
   "cell_type": "code",
   "execution_count": 243,
   "metadata": {},
   "outputs": [],
   "source": [
    "import gzip\n",
    "with gzip.open('../Data/compressed_file/dataset.gz', 'wb') as f:\n",
    "    extracted_data.to_csv(f, index=False)\n",
    "    "
   ]
  },
  {
   "cell_type": "markdown",
   "metadata": {},
   "source": [
    "## IV. Diet Recommendation System\n",
    "### A. Preprocess the data\n",
    "Calculate the correlation matrix between numeric columns "
   ]
  },
  {
   "cell_type": "code",
   "execution_count": 244,
   "metadata": {},
   "outputs": [
    {
     "data": {
      "text/html": [
       "<div>\n",
       "<style scoped>\n",
       "    .dataframe tbody tr th:only-of-type {\n",
       "        vertical-align: middle;\n",
       "    }\n",
       "\n",
       "    .dataframe tbody tr th {\n",
       "        vertical-align: top;\n",
       "    }\n",
       "\n",
       "    .dataframe thead th {\n",
       "        text-align: right;\n",
       "    }\n",
       "</style>\n",
       "<table border=\"1\" class=\"dataframe\">\n",
       "  <thead>\n",
       "    <tr style=\"text-align: right;\">\n",
       "      <th></th>\n",
       "      <th>Calories</th>\n",
       "      <th>FatContent</th>\n",
       "      <th>SaturatedFatContent</th>\n",
       "      <th>CholesterolContent</th>\n",
       "      <th>SodiumContent</th>\n",
       "      <th>CarbohydrateContent</th>\n",
       "      <th>FiberContent</th>\n",
       "      <th>SugarContent</th>\n",
       "      <th>ProteinContent</th>\n",
       "    </tr>\n",
       "  </thead>\n",
       "  <tbody>\n",
       "    <tr>\n",
       "      <th>Calories</th>\n",
       "      <td>1.000000</td>\n",
       "      <td>0.767356</td>\n",
       "      <td>0.603317</td>\n",
       "      <td>0.478934</td>\n",
       "      <td>0.501082</td>\n",
       "      <td>0.711640</td>\n",
       "      <td>0.458711</td>\n",
       "      <td>0.180895</td>\n",
       "      <td>0.689447</td>\n",
       "    </tr>\n",
       "    <tr>\n",
       "      <th>FatContent</th>\n",
       "      <td>0.767356</td>\n",
       "      <td>1.000000</td>\n",
       "      <td>0.767357</td>\n",
       "      <td>0.440515</td>\n",
       "      <td>0.381944</td>\n",
       "      <td>0.223549</td>\n",
       "      <td>0.192142</td>\n",
       "      <td>0.042603</td>\n",
       "      <td>0.468088</td>\n",
       "    </tr>\n",
       "    <tr>\n",
       "      <th>SaturatedFatContent</th>\n",
       "      <td>0.603317</td>\n",
       "      <td>0.767357</td>\n",
       "      <td>1.000000</td>\n",
       "      <td>0.512186</td>\n",
       "      <td>0.319671</td>\n",
       "      <td>0.176623</td>\n",
       "      <td>0.044003</td>\n",
       "      <td>0.090721</td>\n",
       "      <td>0.388618</td>\n",
       "    </tr>\n",
       "    <tr>\n",
       "      <th>CholesterolContent</th>\n",
       "      <td>0.478934</td>\n",
       "      <td>0.440515</td>\n",
       "      <td>0.512186</td>\n",
       "      <td>1.000000</td>\n",
       "      <td>0.335843</td>\n",
       "      <td>0.066104</td>\n",
       "      <td>-0.047346</td>\n",
       "      <td>-0.036112</td>\n",
       "      <td>0.675302</td>\n",
       "    </tr>\n",
       "    <tr>\n",
       "      <th>SodiumContent</th>\n",
       "      <td>0.501082</td>\n",
       "      <td>0.381944</td>\n",
       "      <td>0.319671</td>\n",
       "      <td>0.335843</td>\n",
       "      <td>1.000000</td>\n",
       "      <td>0.294636</td>\n",
       "      <td>0.260479</td>\n",
       "      <td>-0.055518</td>\n",
       "      <td>0.500457</td>\n",
       "    </tr>\n",
       "    <tr>\n",
       "      <th>CarbohydrateContent</th>\n",
       "      <td>0.711640</td>\n",
       "      <td>0.223549</td>\n",
       "      <td>0.176623</td>\n",
       "      <td>0.066104</td>\n",
       "      <td>0.294636</td>\n",
       "      <td>1.000000</td>\n",
       "      <td>0.580535</td>\n",
       "      <td>0.390120</td>\n",
       "      <td>0.255447</td>\n",
       "    </tr>\n",
       "    <tr>\n",
       "      <th>FiberContent</th>\n",
       "      <td>0.458711</td>\n",
       "      <td>0.192142</td>\n",
       "      <td>0.044003</td>\n",
       "      <td>-0.047346</td>\n",
       "      <td>0.260479</td>\n",
       "      <td>0.580535</td>\n",
       "      <td>1.000000</td>\n",
       "      <td>0.068758</td>\n",
       "      <td>0.273488</td>\n",
       "    </tr>\n",
       "    <tr>\n",
       "      <th>SugarContent</th>\n",
       "      <td>0.180895</td>\n",
       "      <td>0.042603</td>\n",
       "      <td>0.090721</td>\n",
       "      <td>-0.036112</td>\n",
       "      <td>-0.055518</td>\n",
       "      <td>0.390120</td>\n",
       "      <td>0.068758</td>\n",
       "      <td>1.000000</td>\n",
       "      <td>-0.120441</td>\n",
       "    </tr>\n",
       "    <tr>\n",
       "      <th>ProteinContent</th>\n",
       "      <td>0.689447</td>\n",
       "      <td>0.468088</td>\n",
       "      <td>0.388618</td>\n",
       "      <td>0.675302</td>\n",
       "      <td>0.500457</td>\n",
       "      <td>0.255447</td>\n",
       "      <td>0.273488</td>\n",
       "      <td>-0.120441</td>\n",
       "      <td>1.000000</td>\n",
       "    </tr>\n",
       "  </tbody>\n",
       "</table>\n",
       "</div>"
      ],
      "text/plain": [
       "                     Calories  FatContent  SaturatedFatContent   \n",
       "Calories             1.000000    0.767356             0.603317  \\\n",
       "FatContent           0.767356    1.000000             0.767357   \n",
       "SaturatedFatContent  0.603317    0.767357             1.000000   \n",
       "CholesterolContent   0.478934    0.440515             0.512186   \n",
       "SodiumContent        0.501082    0.381944             0.319671   \n",
       "CarbohydrateContent  0.711640    0.223549             0.176623   \n",
       "FiberContent         0.458711    0.192142             0.044003   \n",
       "SugarContent         0.180895    0.042603             0.090721   \n",
       "ProteinContent       0.689447    0.468088             0.388618   \n",
       "\n",
       "                     CholesterolContent  SodiumContent  CarbohydrateContent   \n",
       "Calories                       0.478934       0.501082             0.711640  \\\n",
       "FatContent                     0.440515       0.381944             0.223549   \n",
       "SaturatedFatContent            0.512186       0.319671             0.176623   \n",
       "CholesterolContent             1.000000       0.335843             0.066104   \n",
       "SodiumContent                  0.335843       1.000000             0.294636   \n",
       "CarbohydrateContent            0.066104       0.294636             1.000000   \n",
       "FiberContent                  -0.047346       0.260479             0.580535   \n",
       "SugarContent                  -0.036112      -0.055518             0.390120   \n",
       "ProteinContent                 0.675302       0.500457             0.255447   \n",
       "\n",
       "                     FiberContent  SugarContent  ProteinContent  \n",
       "Calories                 0.458711      0.180895        0.689447  \n",
       "FatContent               0.192142      0.042603        0.468088  \n",
       "SaturatedFatContent      0.044003      0.090721        0.388618  \n",
       "CholesterolContent      -0.047346     -0.036112        0.675302  \n",
       "SodiumContent            0.260479     -0.055518        0.500457  \n",
       "CarbohydrateContent      0.580535      0.390120        0.255447  \n",
       "FiberContent             1.000000      0.068758        0.273488  \n",
       "SugarContent             0.068758      1.000000       -0.120441  \n",
       "ProteinContent           0.273488     -0.120441        1.000000  "
      ]
     },
     "execution_count": 244,
     "metadata": {},
     "output_type": "execute_result"
    }
   ],
   "source": [
    "extracted_data.iloc[:,6:15].corr()"
   ]
  },
  {
   "cell_type": "markdown",
   "metadata": {},
   "source": [
    "Standardize numerical columns"
   ]
  },
  {
   "cell_type": "code",
   "execution_count": 245,
   "metadata": {},
   "outputs": [
    {
     "data": {
      "text/plain": [
       "array([[-0.55093359, -0.91281917, -0.77924852, ...,  0.15672078,\n",
       "         2.35502102, -0.68338127],\n",
       "       [ 1.47428542,  1.13139595, -0.0647135 , ...,  3.91055068,\n",
       "         2.56324444,  1.25158691],\n",
       "       [-0.92414618, -1.11248669, -1.12222533, ...,  0.4855234 ,\n",
       "         0.98513013, -0.60183088],\n",
       "       ...,\n",
       "       [ 0.49162165,  0.73206091,  1.85024037, ..., -0.61048534,\n",
       "         1.76322815, -0.56476253],\n",
       "       [ 0.25704672,  0.03797856,  1.02137974, ..., -0.61048534,\n",
       "         1.54404561, -0.63148557],\n",
       "       [-1.40937801, -1.09347074, -1.12222533, ..., -0.82968708,\n",
       "        -0.94367625, -0.74269064]])"
      ]
     },
     "execution_count": 245,
     "metadata": {},
     "output_type": "execute_result"
    }
   ],
   "source": [
    "scaler = StandardScaler()\n",
    "prep_data = scaler.fit_transform(extracted_data.iloc[:,6:15].to_numpy())\n",
    "prep_data"
   ]
  },
  {
   "cell_type": "markdown",
   "metadata": {},
   "source": [
    "### B. Build Predictor Model\n",
    "Create Model"
   ]
  },
  {
   "cell_type": "code",
   "execution_count": 246,
   "metadata": {},
   "outputs": [
    {
     "data": {
      "text/html": [
       "<style>#sk-container-id-24 {color: black;background-color: white;}#sk-container-id-24 pre{padding: 0;}#sk-container-id-24 div.sk-toggleable {background-color: white;}#sk-container-id-24 label.sk-toggleable__label {cursor: pointer;display: block;width: 100%;margin-bottom: 0;padding: 0.3em;box-sizing: border-box;text-align: center;}#sk-container-id-24 label.sk-toggleable__label-arrow:before {content: \"▸\";float: left;margin-right: 0.25em;color: #696969;}#sk-container-id-24 label.sk-toggleable__label-arrow:hover:before {color: black;}#sk-container-id-24 div.sk-estimator:hover label.sk-toggleable__label-arrow:before {color: black;}#sk-container-id-24 div.sk-toggleable__content {max-height: 0;max-width: 0;overflow: hidden;text-align: left;background-color: #f0f8ff;}#sk-container-id-24 div.sk-toggleable__content pre {margin: 0.2em;color: black;border-radius: 0.25em;background-color: #f0f8ff;}#sk-container-id-24 input.sk-toggleable__control:checked~div.sk-toggleable__content {max-height: 200px;max-width: 100%;overflow: auto;}#sk-container-id-24 input.sk-toggleable__control:checked~label.sk-toggleable__label-arrow:before {content: \"▾\";}#sk-container-id-24 div.sk-estimator input.sk-toggleable__control:checked~label.sk-toggleable__label {background-color: #d4ebff;}#sk-container-id-24 div.sk-label input.sk-toggleable__control:checked~label.sk-toggleable__label {background-color: #d4ebff;}#sk-container-id-24 input.sk-hidden--visually {border: 0;clip: rect(1px 1px 1px 1px);clip: rect(1px, 1px, 1px, 1px);height: 1px;margin: -1px;overflow: hidden;padding: 0;position: absolute;width: 1px;}#sk-container-id-24 div.sk-estimator {font-family: monospace;background-color: #f0f8ff;border: 1px dotted black;border-radius: 0.25em;box-sizing: border-box;margin-bottom: 0.5em;}#sk-container-id-24 div.sk-estimator:hover {background-color: #d4ebff;}#sk-container-id-24 div.sk-parallel-item::after {content: \"\";width: 100%;border-bottom: 1px solid gray;flex-grow: 1;}#sk-container-id-24 div.sk-label:hover label.sk-toggleable__label {background-color: #d4ebff;}#sk-container-id-24 div.sk-serial::before {content: \"\";position: absolute;border-left: 1px solid gray;box-sizing: border-box;top: 0;bottom: 0;left: 50%;z-index: 0;}#sk-container-id-24 div.sk-serial {display: flex;flex-direction: column;align-items: center;background-color: white;padding-right: 0.2em;padding-left: 0.2em;position: relative;}#sk-container-id-24 div.sk-item {position: relative;z-index: 1;}#sk-container-id-24 div.sk-parallel {display: flex;align-items: stretch;justify-content: center;background-color: white;position: relative;}#sk-container-id-24 div.sk-item::before, #sk-container-id-24 div.sk-parallel-item::before {content: \"\";position: absolute;border-left: 1px solid gray;box-sizing: border-box;top: 0;bottom: 0;left: 50%;z-index: -1;}#sk-container-id-24 div.sk-parallel-item {display: flex;flex-direction: column;z-index: 1;position: relative;background-color: white;}#sk-container-id-24 div.sk-parallel-item:first-child::after {align-self: flex-end;width: 50%;}#sk-container-id-24 div.sk-parallel-item:last-child::after {align-self: flex-start;width: 50%;}#sk-container-id-24 div.sk-parallel-item:only-child::after {width: 0;}#sk-container-id-24 div.sk-dashed-wrapped {border: 1px dashed gray;margin: 0 0.4em 0.5em 0.4em;box-sizing: border-box;padding-bottom: 0.4em;background-color: white;}#sk-container-id-24 div.sk-label label {font-family: monospace;font-weight: bold;display: inline-block;line-height: 1.2em;}#sk-container-id-24 div.sk-label-container {text-align: center;}#sk-container-id-24 div.sk-container {/* jupyter's `normalize.less` sets `[hidden] { display: none; }` but bootstrap.min.css set `[hidden] { display: none !important; }` so we also need the `!important` here to be able to override the default hidden behavior on the sphinx rendered scikit-learn.org. See: https://github.com/scikit-learn/scikit-learn/issues/21755 */display: inline-block !important;position: relative;}#sk-container-id-24 div.sk-text-repr-fallback {display: none;}</style><div id=\"sk-container-id-24\" class=\"sk-top-container\"><div class=\"sk-text-repr-fallback\"><pre>NearestNeighbors(algorithm=&#x27;brute&#x27;, metric=&#x27;cosine&#x27;)</pre><b>In a Jupyter environment, please rerun this cell to show the HTML representation or trust the notebook. <br />On GitHub, the HTML representation is unable to render, please try loading this page with nbviewer.org.</b></div><div class=\"sk-container\" hidden><div class=\"sk-item\"><div class=\"sk-estimator sk-toggleable\"><input class=\"sk-toggleable__control sk-hidden--visually\" id=\"sk-estimator-id-54\" type=\"checkbox\" checked><label for=\"sk-estimator-id-54\" class=\"sk-toggleable__label sk-toggleable__label-arrow\">NearestNeighbors</label><div class=\"sk-toggleable__content\"><pre>NearestNeighbors(algorithm=&#x27;brute&#x27;, metric=&#x27;cosine&#x27;)</pre></div></div></div></div></div>"
      ],
      "text/plain": [
       "NearestNeighbors(algorithm='brute', metric='cosine')"
      ]
     },
     "execution_count": 246,
     "metadata": {},
     "output_type": "execute_result"
    }
   ],
   "source": [
    "model = NearestNeighbors(metric='cosine', algorithm='brute')\n",
    "model.fit(prep_data)"
   ]
  },
  {
   "cell_type": "markdown",
   "metadata": {},
   "source": [
    "Build pipeline"
   ]
  },
  {
   "cell_type": "code",
   "execution_count": 247,
   "metadata": {},
   "outputs": [],
   "source": [
    "parameters = {\n",
    "    'n_neighbors':5, # number of predictions\n",
    "    'return_distance':False\n",
    "}\n",
    "\n",
    "# transform model so that it can be compatible to put in pipeline\n",
    "transformer = FunctionTransformer(model.kneighbors, kw_args=parameters)\n",
    "\n",
    "# pipeline is a set of steps to be taken by the new data\n",
    "# (new data will go to step 1: preprocessing and step 2: model prediction)\n",
    "pipeline = Pipeline([('std_scaler', scaler), ('NN', transformer)])"
   ]
  },
  {
   "cell_type": "markdown",
   "metadata": {},
   "source": [
    "### C. Prediction\n",
    "#### i. Predict 5 Meals"
   ]
  },
  {
   "cell_type": "code",
   "execution_count": 248,
   "metadata": {},
   "outputs": [
    {
     "data": {
      "text/plain": [
       "array([[1.40600000e+03, 1.56385036e+01, 3.41762768e+00, 3.19574440e-02,\n",
       "        1.38633064e+02, 4.79908094e+01, 8.73515630e+00, 5.28142692e+00,\n",
       "        8.64652792e+01]])"
      ]
     },
     "execution_count": 248,
     "metadata": {},
     "output_type": "execute_result"
    }
   ],
   "source": [
    "from random import uniform as rnd\n",
    "query_point = [\n",
    "    1406, # meal_calories\n",
    "    # rnd(10,30), rnd(0,4), rnd(0,30), rnd(0,400), \n",
    "    # rnd(40,75), rnd(4,10),rnd(0,10),rnd(30,100)\n",
    "    15.638503552043373, 3.4176276769686678, 0.031957443995366264, \n",
    "    138.63306420214982, 47.99080939985001, 8.735156296291148, \n",
    "    5.281426920090141, 86.46527919210487\n",
    "]\n",
    "\n",
    "new_data = np.array(query_point).reshape(1, -1) # always converts to one row\n",
    "new_data\n"
   ]
  },
  {
   "cell_type": "code",
   "execution_count": 249,
   "metadata": {},
   "outputs": [
    {
     "data": {
      "text/plain": [
       "array([326925, 270287,  39947, 311027, 265561], dtype=int64)"
      ]
     },
     "execution_count": 249,
     "metadata": {},
     "output_type": "execute_result"
    }
   ],
   "source": [
    "# passes new_data through each step of the pipeline sequentially\n",
    "row_indexes = pipeline.transform(new_data)[0]\n",
    "# this returns the row index of the predicted meals\n",
    "row_indexes"
   ]
  },
  {
   "cell_type": "code",
   "execution_count": 250,
   "metadata": {},
   "outputs": [
    {
     "name": "stdout",
     "output_type": "stream",
     "text": [
      "Pinot Noir Beef Stew\n",
      "Chicken &amp; Vegetable Pot Pie\n",
      "Grilled Marsala Chicken & Parmesan Salad\n",
      "Pan Seared Fish With Mushrooms and Scallions\n",
      "Italian Chicken Zucchini &amp; Tomatoes\n"
     ]
    }
   ],
   "source": [
    "for meal_row_index in row_indexes:\n",
    "    print(extracted_data.iloc[meal_row_index, 1])"
   ]
  },
  {
   "cell_type": "code",
   "execution_count": 251,
   "metadata": {},
   "outputs": [
    {
     "data": {
      "text/html": [
       "<div>\n",
       "<style scoped>\n",
       "    .dataframe tbody tr th:only-of-type {\n",
       "        vertical-align: middle;\n",
       "    }\n",
       "\n",
       "    .dataframe tbody tr th {\n",
       "        vertical-align: top;\n",
       "    }\n",
       "\n",
       "    .dataframe thead th {\n",
       "        text-align: right;\n",
       "    }\n",
       "</style>\n",
       "<table border=\"1\" class=\"dataframe\">\n",
       "  <thead>\n",
       "    <tr style=\"text-align: right;\">\n",
       "      <th></th>\n",
       "      <th>RecipeId</th>\n",
       "      <th>Name</th>\n",
       "      <th>CookTime</th>\n",
       "      <th>PrepTime</th>\n",
       "      <th>TotalTime</th>\n",
       "      <th>RecipeIngredientParts</th>\n",
       "      <th>Calories</th>\n",
       "      <th>FatContent</th>\n",
       "      <th>SaturatedFatContent</th>\n",
       "      <th>CholesterolContent</th>\n",
       "      <th>SodiumContent</th>\n",
       "      <th>CarbohydrateContent</th>\n",
       "      <th>FiberContent</th>\n",
       "      <th>SugarContent</th>\n",
       "      <th>ProteinContent</th>\n",
       "      <th>RecipeInstructions</th>\n",
       "    </tr>\n",
       "  </thead>\n",
       "  <tbody>\n",
       "    <tr>\n",
       "      <th>454947</th>\n",
       "      <td>471699</td>\n",
       "      <td>Pinot Noir Beef Stew</td>\n",
       "      <td>PT2H</td>\n",
       "      <td>PT20M</td>\n",
       "      <td>PT2H20M</td>\n",
       "      <td>c(\"stewing beef\", \"parsnip\", \"onion\", \"garlic ...</td>\n",
       "      <td>519.6</td>\n",
       "      <td>15.1</td>\n",
       "      <td>4.1</td>\n",
       "      <td>72.6</td>\n",
       "      <td>284.8</td>\n",
       "      <td>32.1</td>\n",
       "      <td>4.7</td>\n",
       "      <td>7.1</td>\n",
       "      <td>36.1</td>\n",
       "      <td>\"Heat olive oil in a 3 quart dutch oven over m...</td>\n",
       "    </tr>\n",
       "    <tr>\n",
       "      <th>377990</th>\n",
       "      <td>391612</td>\n",
       "      <td>Chicken &amp;amp; Vegetable Pot Pie</td>\n",
       "      <td>PT35M</td>\n",
       "      <td>PT35M</td>\n",
       "      <td>PT1H10M</td>\n",
       "      <td>c(\"boneless skinless chicken breast\", \"olive o...</td>\n",
       "      <td>387.7</td>\n",
       "      <td>14.3</td>\n",
       "      <td>3.6</td>\n",
       "      <td>48.0</td>\n",
       "      <td>324.0</td>\n",
       "      <td>35.3</td>\n",
       "      <td>4.9</td>\n",
       "      <td>10.4</td>\n",
       "      <td>25.7</td>\n",
       "      <td>c(\"Heat oven to 400°F Cook the chicken in a po...</td>\n",
       "    </tr>\n",
       "    <tr>\n",
       "      <th>58359</th>\n",
       "      <td>62678</td>\n",
       "      <td>Grilled Marsala Chicken &amp; Parmesan Salad</td>\n",
       "      <td>PT20M</td>\n",
       "      <td>PT5M</td>\n",
       "      <td>PT25M</td>\n",
       "      <td>c(\"boneless skinless chicken breast halves\", \"...</td>\n",
       "      <td>1027.0</td>\n",
       "      <td>12.7</td>\n",
       "      <td>2.9</td>\n",
       "      <td>75.0</td>\n",
       "      <td>396.2</td>\n",
       "      <td>33.8</td>\n",
       "      <td>4.3</td>\n",
       "      <td>9.8</td>\n",
       "      <td>33.2</td>\n",
       "      <td>c(\"Place chicken in a bowl with a lid, add mar...</td>\n",
       "    </tr>\n",
       "    <tr>\n",
       "      <th>433028</th>\n",
       "      <td>449063</td>\n",
       "      <td>Pan Seared Fish With Mushrooms and Scallions</td>\n",
       "      <td>PT20M</td>\n",
       "      <td>PT15M</td>\n",
       "      <td>PT35M</td>\n",
       "      <td>c(\"cornstarch\", \"mushrooms\", \"scallions\", \"gar...</td>\n",
       "      <td>909.5</td>\n",
       "      <td>28.5</td>\n",
       "      <td>5.6</td>\n",
       "      <td>93.5</td>\n",
       "      <td>535.9</td>\n",
       "      <td>63.4</td>\n",
       "      <td>5.9</td>\n",
       "      <td>10.1</td>\n",
       "      <td>54.5</td>\n",
       "      <td>c(\"Season fish fillet with salt and pepper.  C...</td>\n",
       "    </tr>\n",
       "    <tr>\n",
       "      <th>371711</th>\n",
       "      <td>385183</td>\n",
       "      <td>Italian Chicken Zucchini &amp;amp; Tomatoes</td>\n",
       "      <td>PT20M</td>\n",
       "      <td>PT10M</td>\n",
       "      <td>PT30M</td>\n",
       "      <td>c(\"chicken breasts\", \"angel hair pasta\", \"oliv...</td>\n",
       "      <td>387.8</td>\n",
       "      <td>16.0</td>\n",
       "      <td>4.1</td>\n",
       "      <td>51.9</td>\n",
       "      <td>374.0</td>\n",
       "      <td>33.0</td>\n",
       "      <td>3.3</td>\n",
       "      <td>6.2</td>\n",
       "      <td>23.1</td>\n",
       "      <td>c(\"Slice chicken in 1/2\\\" x 2\\\" inch slices an...</td>\n",
       "    </tr>\n",
       "  </tbody>\n",
       "</table>\n",
       "</div>"
      ],
      "text/plain": [
       "        RecipeId                                          Name CookTime   \n",
       "454947    471699                          Pinot Noir Beef Stew     PT2H  \\\n",
       "377990    391612               Chicken &amp; Vegetable Pot Pie    PT35M   \n",
       "58359      62678      Grilled Marsala Chicken & Parmesan Salad    PT20M   \n",
       "433028    449063  Pan Seared Fish With Mushrooms and Scallions    PT20M   \n",
       "371711    385183       Italian Chicken Zucchini &amp; Tomatoes    PT20M   \n",
       "\n",
       "       PrepTime TotalTime                              RecipeIngredientParts   \n",
       "454947    PT20M   PT2H20M  c(\"stewing beef\", \"parsnip\", \"onion\", \"garlic ...  \\\n",
       "377990    PT35M   PT1H10M  c(\"boneless skinless chicken breast\", \"olive o...   \n",
       "58359      PT5M     PT25M  c(\"boneless skinless chicken breast halves\", \"...   \n",
       "433028    PT15M     PT35M  c(\"cornstarch\", \"mushrooms\", \"scallions\", \"gar...   \n",
       "371711    PT10M     PT30M  c(\"chicken breasts\", \"angel hair pasta\", \"oliv...   \n",
       "\n",
       "        Calories  FatContent  SaturatedFatContent  CholesterolContent   \n",
       "454947     519.6        15.1                  4.1                72.6  \\\n",
       "377990     387.7        14.3                  3.6                48.0   \n",
       "58359     1027.0        12.7                  2.9                75.0   \n",
       "433028     909.5        28.5                  5.6                93.5   \n",
       "371711     387.8        16.0                  4.1                51.9   \n",
       "\n",
       "        SodiumContent  CarbohydrateContent  FiberContent  SugarContent   \n",
       "454947          284.8                 32.1           4.7           7.1  \\\n",
       "377990          324.0                 35.3           4.9          10.4   \n",
       "58359           396.2                 33.8           4.3           9.8   \n",
       "433028          535.9                 63.4           5.9          10.1   \n",
       "371711          374.0                 33.0           3.3           6.2   \n",
       "\n",
       "        ProteinContent                                 RecipeInstructions  \n",
       "454947            36.1  \"Heat olive oil in a 3 quart dutch oven over m...  \n",
       "377990            25.7  c(\"Heat oven to 400°F Cook the chicken in a po...  \n",
       "58359             33.2  c(\"Place chicken in a bowl with a lid, add mar...  \n",
       "433028            54.5  c(\"Season fish fillet with salt and pepper.  C...  \n",
       "371711            23.1  c(\"Slice chicken in 1/2\\\" x 2\\\" inch slices an...  "
      ]
     },
     "execution_count": 251,
     "metadata": {},
     "output_type": "execute_result"
    }
   ],
   "source": [
    "# Final Prediction in dataframe\n",
    "final_preds = extracted_data.iloc[pipeline.transform(new_data)[0]]\n",
    "final_preds"
   ]
  },
  {
   "cell_type": "markdown",
   "metadata": {},
   "source": [
    "#### ii. Getting the Recipes and Instructions of the final meal predictions"
   ]
  },
  {
   "cell_type": "code",
   "execution_count": 258,
   "metadata": {},
   "outputs": [
    {
     "data": {
      "text/plain": [
       "{'RecipeId': 471699,\n",
       " 'Name': 'Pinot Noir Beef Stew',\n",
       " 'CookTime': 'PT2H',\n",
       " 'PrepTime': 'PT20M',\n",
       " 'TotalTime': 'PT2H20M',\n",
       " 'RecipeIngredientParts': 'c(\"stewing beef\", \"parsnip\", \"onion\", \"garlic cloves\", \"carrots\", \"olive oil\", \"bay leaf\", \"cornstarch\", \"water\")',\n",
       " 'Calories': 519.6,\n",
       " 'FatContent': 15.1,\n",
       " 'SaturatedFatContent': 4.1,\n",
       " 'CholesterolContent': 72.6,\n",
       " 'SodiumContent': 284.8,\n",
       " 'CarbohydrateContent': 32.1,\n",
       " 'FiberContent': 4.7,\n",
       " 'SugarContent': 7.1,\n",
       " 'ProteinContent': 36.1,\n",
       " 'RecipeInstructions': '\"Heat olive oil in a 3 quart dutch oven over medium high heat.  Dry stew beef and add to Dutch oven.  Brown meat thoroughly; remove from pan and add onions and garlic.  Sauté until translucent.    Add about one half cup of the wine.  Scrape the brown bits from the bottom of the pan.  Add remaining wine, beef, carrots and parsnip cubes to the pan.  Lower heat and simmer for about 10 minutes.  Add broth, bay leaf and Herbs de Provence, stir and cover pan.  Let simmer for about 2 hours.  Add more water if necessary.  Prepare sour cream mashed potatoes the last 30 minutes of cooking.  When stew is done thicken with 1 tablespoons corn starch mixed with ¼ cup water.  Serve over sour cream mashed potatoes.\"'}"
      ]
     },
     "execution_count": 258,
     "metadata": {},
     "output_type": "execute_result"
    }
   ],
   "source": [
    "# Convert final_preds dataframe to a key-pair value which is dictionary in \"records\" format\n",
    "final_recipes = final_preds.to_dict(\"records\")\n",
    "\n",
    "# view one to see result\n",
    "final_recipes[0]"
   ]
  },
  {
   "cell_type": "markdown",
   "metadata": {},
   "source": [
    "As we can see, *RecipeIngredientParts* and *RecipeInstructions* needs to be\n",
    "converted to a list of strings."
   ]
  },
  {
   "cell_type": "code",
   "execution_count": 259,
   "metadata": {},
   "outputs": [],
   "source": [
    "import re\n",
    "for recipe in final_recipes:\n",
    "    recipe['RecipeIngredientParts'] = re.findall(r'\"([^\"]*)\"', recipe['RecipeIngredientParts'])\n",
    "    recipe['RecipeInstructions'] = re.findall(r'\"([^\"]*)\"', recipe['RecipeInstructions'])"
   ]
  },
  {
   "cell_type": "markdown",
   "metadata": {},
   "source": [
    "This is the final look of the dictionary"
   ]
  },
  {
   "cell_type": "code",
   "execution_count": 260,
   "metadata": {},
   "outputs": [
    {
     "data": {
      "text/plain": [
       "[{'RecipeId': 471699,\n",
       "  'Name': 'Pinot Noir Beef Stew',\n",
       "  'CookTime': 'PT2H',\n",
       "  'PrepTime': 'PT20M',\n",
       "  'TotalTime': 'PT2H20M',\n",
       "  'RecipeIngredientParts': ['stewing beef',\n",
       "   'parsnip',\n",
       "   'onion',\n",
       "   'garlic cloves',\n",
       "   'carrots',\n",
       "   'olive oil',\n",
       "   'bay leaf',\n",
       "   'cornstarch',\n",
       "   'water'],\n",
       "  'Calories': 519.6,\n",
       "  'FatContent': 15.1,\n",
       "  'SaturatedFatContent': 4.1,\n",
       "  'CholesterolContent': 72.6,\n",
       "  'SodiumContent': 284.8,\n",
       "  'CarbohydrateContent': 32.1,\n",
       "  'FiberContent': 4.7,\n",
       "  'SugarContent': 7.1,\n",
       "  'ProteinContent': 36.1,\n",
       "  'RecipeInstructions': ['Heat olive oil in a 3 quart dutch oven over medium high heat.  Dry stew beef and add to Dutch oven.  Brown meat thoroughly; remove from pan and add onions and garlic.  Sauté until translucent.    Add about one half cup of the wine.  Scrape the brown bits from the bottom of the pan.  Add remaining wine, beef, carrots and parsnip cubes to the pan.  Lower heat and simmer for about 10 minutes.  Add broth, bay leaf and Herbs de Provence, stir and cover pan.  Let simmer for about 2 hours.  Add more water if necessary.  Prepare sour cream mashed potatoes the last 30 minutes of cooking.  When stew is done thicken with 1 tablespoons corn starch mixed with ¼ cup water.  Serve over sour cream mashed potatoes.']},\n",
       " {'RecipeId': 391612,\n",
       "  'Name': 'Chicken &amp; Vegetable Pot Pie',\n",
       "  'CookTime': 'PT35M',\n",
       "  'PrepTime': 'PT35M',\n",
       "  'TotalTime': 'PT1H10M',\n",
       "  'RecipeIngredientParts': ['boneless skinless chicken breast',\n",
       "   'olive oil',\n",
       "   'onions',\n",
       "   'carrots',\n",
       "   'all-purpose flour',\n",
       "   'dry white wine',\n",
       "   'low-fat milk',\n",
       "   'fresh thyme'],\n",
       "  'Calories': 387.7,\n",
       "  'FatContent': 14.3,\n",
       "  'SaturatedFatContent': 3.6,\n",
       "  'CholesterolContent': 48.0,\n",
       "  'SodiumContent': 324.0,\n",
       "  'CarbohydrateContent': 35.3,\n",
       "  'FiberContent': 4.9,\n",
       "  'SugarContent': 10.4,\n",
       "  'ProteinContent': 25.7,\n",
       "  'RecipeInstructions': ['Heat oven to 400°F Cook the chicken in a pot of simmering water until cooked through, 10 to 12 minutes; let cool, then shred.',\n",
       "   'Meanwhile, heat the oil in a saucepan over medium heat. Add the onions and carrots and cook, stir-ring, until they begin to soften, 6 to 8 minutes (do not let them darken). Sprinkle the flour over the vegetables and cook, stirring, for 1 minute.',\n",
       "   'Add the wine and cook until evaporated, about 5 minutes. Add the milk and simmer until the sauce thickens, 2 to 3 minutes. Stir in the chicken, peas, thyme, 3/4 teaspoon salt, and 1/4 teaspoon pepper. Transfer to a shallow 1 1/2- to 2-quart baking dish.',\n",
       "   'Lay the crust on top, pressing to seal. Cut several vents in the crust. Place the pot pie on a baking sheet and bake until bubbling and the crust is golden, 30 to 35 minutes.']},\n",
       " {'RecipeId': 62678,\n",
       "  'Name': 'Grilled Marsala Chicken & Parmesan Salad',\n",
       "  'CookTime': 'PT20M',\n",
       "  'PrepTime': 'PT5M',\n",
       "  'TotalTime': 'PT25M',\n",
       "  'RecipeIngredientParts': ['boneless skinless chicken breast halves',\n",
       "   'marsala wine',\n",
       "   'garlic',\n",
       "   'dried thyme',\n",
       "   'olive oil',\n",
       "   'red wine vinegar',\n",
       "   'parmesan cheese',\n",
       "   'romaine lettuce',\n",
       "   'red onion',\n",
       "   'black olives'],\n",
       "  'Calories': 1027.0,\n",
       "  'FatContent': 12.7,\n",
       "  'SaturatedFatContent': 2.9,\n",
       "  'CholesterolContent': 75.0,\n",
       "  'SodiumContent': 396.2,\n",
       "  'CarbohydrateContent': 33.8,\n",
       "  'FiberContent': 4.3,\n",
       "  'SugarContent': 9.8,\n",
       "  'ProteinContent': 33.2,\n",
       "  'RecipeInstructions': ['Place chicken in a bowl with a lid, add marsala to cover.',\n",
       "   'Add garlic, thyme, salt& pepper.',\n",
       "   'Marinate in fridge overnight.',\n",
       "   'Grill chicken (indoor or outdoor grill), basting often with marinade.',\n",
       "   'Dressing: mix olive oil, vinegar, and parmesan.',\n",
       "   'Toss shredded lettuce, red onion, and olives.',\n",
       "   'Drizzle with dressing and top with slices of grilled chicken.']},\n",
       " {'RecipeId': 449063,\n",
       "  'Name': 'Pan Seared Fish With Mushrooms and Scallions',\n",
       "  'CookTime': 'PT20M',\n",
       "  'PrepTime': 'PT15M',\n",
       "  'TotalTime': 'PT35M',\n",
       "  'RecipeIngredientParts': ['cornstarch',\n",
       "   'mushrooms',\n",
       "   'scallions',\n",
       "   'garlic cloves',\n",
       "   'dry sherry',\n",
       "   'cashews'],\n",
       "  'Calories': 909.5,\n",
       "  'FatContent': 28.5,\n",
       "  'SaturatedFatContent': 5.6,\n",
       "  'CholesterolContent': 93.5,\n",
       "  'SodiumContent': 535.9,\n",
       "  'CarbohydrateContent': 63.4,\n",
       "  'FiberContent': 5.9,\n",
       "  'SugarContent': 10.1,\n",
       "  'ProteinContent': 54.5,\n",
       "  'RecipeInstructions': ['Season fish fillet with salt and pepper.  Coat with cornstarch.  Heat a small amount of oil in a pan.  Place the fish in the hot oil  Lightly brown the fish, adjusting heat as needed. Turn and finish cooking.',\n",
       "   'Heat a few tablespoons of oil in a separate pan.  Add mushrooms and garlic.  When the mushrooms release iquid, allow a little of the liquid to dry up.  Add the scallions and toss quickly. Add sherry and then cashews.',\n",
       "   'Serve over rice or noodles.']},\n",
       " {'RecipeId': 385183,\n",
       "  'Name': 'Italian Chicken Zucchini &amp; Tomatoes',\n",
       "  'CookTime': 'PT20M',\n",
       "  'PrepTime': 'PT10M',\n",
       "  'TotalTime': 'PT30M',\n",
       "  'RecipeIngredientParts': ['chicken breasts',\n",
       "   'angel hair pasta',\n",
       "   'olive oil',\n",
       "   'onion',\n",
       "   'zucchini',\n",
       "   'garlic cloves',\n",
       "   'red wine',\n",
       "   'diced tomatoes',\n",
       "   'parmesan cheese'],\n",
       "  'Calories': 387.8,\n",
       "  'FatContent': 16.0,\n",
       "  'SaturatedFatContent': 4.1,\n",
       "  'CholesterolContent': 51.9,\n",
       "  'SodiumContent': 374.0,\n",
       "  'CarbohydrateContent': 33.0,\n",
       "  'FiberContent': 3.3,\n",
       "  'SugarContent': 6.2,\n",
       "  'ProteinContent': 23.1,\n",
       "  'RecipeInstructions': ['Slice chicken in 1/2\\\\',\n",
       "   ' inch slices and season with Cajun seasoning.',\n",
       "   'Heat water in a large pot for spaghetti.',\n",
       "   'Heat olive oil in large skillet and cook chicken for approximately 5 minutes stirring twice.',\n",
       "   'Add onion and cook for 2 more minutes.',\n",
       "   'Add zucchini, garlic and red wine; cook for 2 more minutes.',\n",
       "   'Add the spices (1 tsp of each) and the tomatoes with the juice; let cook for 10 minutes or until zucchini is soft.',\n",
       "   'In the meantime add pasta to pot and cook til desired doneness.',\n",
       "   'Serve chicken & veggies over the pasta & sprinkle with parmesan.']}]"
      ]
     },
     "execution_count": 260,
     "metadata": {},
     "output_type": "execute_result"
    }
   ],
   "source": [
    "final_recipes"
   ]
  }
 ],
 "metadata": {
  "kernelspec": {
   "display_name": "Python 3",
   "language": "python",
   "name": "python3"
  },
  "language_info": {
   "codemirror_mode": {
    "name": "ipython",
    "version": 3
   },
   "file_extension": ".py",
   "mimetype": "text/x-python",
   "name": "python",
   "nbconvert_exporter": "python",
   "pygments_lexer": "ipython3",
   "version": "3.11.3"
  }
 },
 "nbformat": 4,
 "nbformat_minor": 2
}

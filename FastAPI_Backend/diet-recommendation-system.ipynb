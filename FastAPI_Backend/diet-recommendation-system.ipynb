{
 "cells": [
  {
   "cell_type": "markdown",
   "metadata": {},
   "source": [
    "# Anime Recommendation System"
   ]
  },
  {
   "cell_type": "markdown",
   "metadata": {},
   "source": [
    "## I. Import Libraries"
   ]
  },
  {
   "cell_type": "code",
   "execution_count": 132,
   "metadata": {},
   "outputs": [],
   "source": [
    "import pandas as pd\n",
    "import numpy as np\n",
    "import tensorflow as tf\n",
    "import matplotlib.pyplot as plt"
   ]
  },
  {
   "cell_type": "markdown",
   "metadata": {},
   "source": [
    "## II. Get and clean dataset\n",
    "### Examine Feature columns"
   ]
  },
  {
   "cell_type": "code",
   "execution_count": 133,
   "metadata": {},
   "outputs": [],
   "source": [
    "features = pd.read_csv('../Data/anime-recommendations-database/anime.csv')\n",
    "target = pd.read_csv('../Data/anime-recommendations-database/rating.csv')"
   ]
  },
  {
   "cell_type": "code",
   "execution_count": 134,
   "metadata": {},
   "outputs": [
    {
     "name": "stdout",
     "output_type": "stream",
     "text": [
      "Features has 7 columns:\n",
      "\n",
      "Columns Names:      Unique Values:      Missing Values/Null:\n",
      "anime_id            12294               0                   \n",
      "name                12292               0                   \n",
      "genre               3264                62                  \n",
      "type                6                   25                  \n",
      "episodes            187                 0                   \n",
      "rating              598                 230                 \n",
      "members             6706                0                   \n"
     ]
    }
   ],
   "source": [
    "len_features = len(features.columns)\n",
    "col_features = features.columns\n",
    "\n",
    "print(\"Features has \"+str(len_features)+\" columns:\\n\\n\" +\n",
    "      \"Columns Names:\".ljust(20, ' ') +\n",
    "      \"Unique Values:\".ljust(20, ' ') +\n",
    "      \"Missing Values/Null:\".ljust(20, ' '))\n",
    "\n",
    "for i in col_features:\n",
    "    print(i.ljust(20, ' ') + \n",
    "          str(features[i].nunique()).ljust(20, ' ') + \n",
    "          str(sum(features[i].isnull())).ljust(20, ' '))"
   ]
  },
  {
   "cell_type": "markdown",
   "metadata": {},
   "source": [
    "#### Remove rows with NA/null Values "
   ]
  },
  {
   "cell_type": "code",
   "execution_count": 148,
   "metadata": {},
   "outputs": [
    {
     "name": "stdout",
     "output_type": "stream",
     "text": [
      "After removing Na/null values...\n",
      "\n",
      "Columns Names:      Unique Values:      Missing Values/Null:\n",
      "anime_id            12017               0                   \n",
      "name                12015               0                   \n",
      "genre               3229                0                   \n",
      "type                6                   0                   \n",
      "episodes            187                 0                   \n",
      "rating              598                 0                   \n",
      "members             6596                0                   \n"
     ]
    }
   ],
   "source": [
    "features = features.dropna()\n",
    "\n",
    "print(\"After removing Na/null values...\\n\\n\" +\n",
    "      \"Columns Names:\".ljust(20, ' ') +\n",
    "      \"Unique Values:\".ljust(20, ' ') +\n",
    "      \"Missing Values/Null:\".ljust(20, ' '))\n",
    "\n",
    "for i in col_features:\n",
    "    print(i.ljust(20, ' ') + \n",
    "          str(features[i].nunique()).ljust(20, ' ') + \n",
    "          str(sum(features[i].isnull())).ljust(20, ' '))"
   ]
  },
  {
   "cell_type": "code",
   "execution_count": 150,
   "metadata": {},
   "outputs": [],
   "source": [
    "# # This is for checking each column's unique values\n",
    "# col_genre = features['genre'].unique()\n",
    "# genre_bow = []\n",
    "\n",
    "# words_per_row = features['genre'].str.split(', ')\n",
    "# all_words = [word for row in words_per_row for word in row]\n",
    "# unique = list(set(all_words))\n",
    "\n",
    "# for i in unique:\n",
    "#     print(i)\n"
   ]
  },
  {
   "cell_type": "markdown",
   "metadata": {},
   "source": [
    "### Examine Target column"
   ]
  },
  {
   "cell_type": "code",
   "execution_count": 151,
   "metadata": {},
   "outputs": [
    {
     "data": {
      "text/plain": [
       "rating\n",
       " 8     1646019\n",
       "-1     1476496\n",
       " 7     1375287\n",
       " 9     1254096\n",
       " 10     955715\n",
       " 6      637775\n",
       " 5      282806\n",
       " 4      104291\n",
       " 3       41453\n",
       " 2       23150\n",
       " 1       16649\n",
       "Name: count, dtype: int64"
      ]
     },
     "execution_count": 151,
     "metadata": {},
     "output_type": "execute_result"
    }
   ],
   "source": [
    "target.rating.value_counts()"
   ]
  },
  {
   "cell_type": "code",
   "execution_count": 157,
   "metadata": {},
   "outputs": [
    {
     "name": "stdout",
     "output_type": "stream",
     "text": [
      "There are 0 null/na values in target column.\n"
     ]
    }
   ],
   "source": [
    "print(\"There are \" + str(sum(target.rating.isnull())) + \" null/na values in target column.\")"
   ]
  },
  {
   "cell_type": "markdown",
   "metadata": {},
   "source": [
    "#### Remove all -1 ratings\n",
    "`-1` refers to anime titles that haven't been rated by users"
   ]
  },
  {
   "cell_type": "code",
   "execution_count": 153,
   "metadata": {},
   "outputs": [
    {
     "data": {
      "text/plain": [
       "rating\n",
       "8     1646019\n",
       "7     1375287\n",
       "9     1254096\n",
       "10     955715\n",
       "6      637775\n",
       "5      282806\n",
       "4      104291\n",
       "3       41453\n",
       "2       23150\n",
       "1       16649\n",
       "Name: count, dtype: int64"
      ]
     },
     "execution_count": 153,
     "metadata": {},
     "output_type": "execute_result"
    }
   ],
   "source": [
    "target = target[target[\"rating\"] !=-1]\n",
    "target.rating.value_counts()"
   ]
  }
 ],
 "metadata": {
  "kernelspec": {
   "display_name": "Python 3",
   "language": "python",
   "name": "python3"
  },
  "language_info": {
   "codemirror_mode": {
    "name": "ipython",
    "version": 3
   },
   "file_extension": ".py",
   "mimetype": "text/x-python",
   "name": "python",
   "nbconvert_exporter": "python",
   "pygments_lexer": "ipython3",
   "version": "3.11.3"
  }
 },
 "nbformat": 4,
 "nbformat_minor": 2
}
